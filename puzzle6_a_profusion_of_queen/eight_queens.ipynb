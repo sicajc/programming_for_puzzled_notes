{
 "cells": [
  {
   "attachments": {},
   "cell_type": "markdown",
   "metadata": {},
   "source": [
    "# Resolving the 8-Queens problem"
   ]
  },
  {
   "attachments": {},
   "cell_type": "markdown",
   "metadata": {},
   "source": [
    "### Using Recursion and 1-D data structure\n",
    "- After validating that it works, exploit symmetry, i.e. rotation and reflection to further improve your algorithm."
   ]
  },
  {
   "attachments": {},
   "cell_type": "markdown",
   "metadata": {},
   "source": [
    "## Naive Algorithm\n",
    "- Initilizing a chessboard.\n",
    "- Base case, all column has a queen, we found the solution.\n",
    "- Inductive step.\n",
    "    - For a chessboard with size N, try placing queen in every rows for the select column.\n",
    "    - Check if the placed queen leads to a conflict.\n",
    "        - If there is no conflict, try the next column.\n",
    "    - otherwise\n",
    "        - This is not a valid placement "
   ]
  },
  {
   "cell_type": "code",
   "execution_count": 36,
   "metadata": {},
   "outputs": [
    {
     "name": "stdout",
     "output_type": "stream",
     "text": [
      "Initialized Board:\n",
      "[-1, -1, -1, -1, -1, -1, -1, -1]\n",
      "[0, -1, -1, -1, -1, -1, -1, -1]\n",
      "Checking Conflict:\n",
      "False\n"
     ]
    }
   ],
   "source": [
    "# Define a data structure where the integer value represents the row position \n",
    "# of the queen at ith column\n",
    "n     = 8\n",
    "board = [] # Initilize a 1-D array with all -1 representing the board\n",
    "\n",
    "for _ in range(n):\n",
    "    board.append(-1)\n",
    "\n",
    "print(\"Initialized Board:\")\n",
    "print(board)\n",
    "\n",
    "def checkNoConflict(board,current,try_row):\n",
    "    # Given the current position of new queen.\n",
    "    for row_num in board:\n",
    "        if row_num != -1:\n",
    "            # Checking if there is a conflict in rows\n",
    "            if row_num == try_row:\n",
    "                return False\n",
    "\n",
    "            # Checking for diagonals\n",
    "            for i in range(len(board)):\n",
    "                if abs(current - i) == abs(row_num - try_row) :\n",
    "                    return False\n",
    "    \n",
    "    return True\n",
    "\n",
    "board[0] = 0\n",
    "current  = 1\n",
    "print(board)\n",
    "print(\"Checking Conflict:\")\n",
    "# for i in range(n):\n",
    "print(checkNoConflict(board,current,1))\n"
   ]
  },
  {
   "cell_type": "code",
   "execution_count": null,
   "metadata": {},
   "outputs": [],
   "source": [
    "for i in range(4):\n",
    "    print(i)"
   ]
  }
 ],
 "metadata": {
  "kernelspec": {
   "display_name": "Python 3",
   "language": "python",
   "name": "python3"
  },
  "language_info": {
   "codemirror_mode": {
    "name": "ipython",
    "version": 3
   },
   "file_extension": ".py",
   "mimetype": "text/x-python",
   "name": "python",
   "nbconvert_exporter": "python",
   "pygments_lexer": "ipython3",
   "version": "3.11.4"
  },
  "orig_nbformat": 4
 },
 "nbformat": 4,
 "nbformat_minor": 2
}
